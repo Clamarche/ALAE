{
  "nbformat": 4,
  "nbformat_minor": 0,
  "metadata": {
    "colab": {
      "name": "ELE747_laboratoire4.ipynb",
      "provenance": [],
      "private_outputs": true,
      "authorship_tag": "ABX9TyN7KjJ8RnVEDRxPesoY5/yW",
      "include_colab_link": true
    },
    "kernelspec": {
      "name": "python3",
      "display_name": "Python 3"
    }
  },
  "cells": [
    {
      "cell_type": "markdown",
      "metadata": {
        "id": "view-in-github",
        "colab_type": "text"
      },
      "source": [
        "<a href=\"https://colab.research.google.com/github/Clamarche/ALAE/blob/master/ELE747_laboratoire4.ipynb\" target=\"_parent\"><img src=\"https://colab.research.google.com/assets/colab-badge.svg\" alt=\"Open In Colab\"/></a>"
      ]
    },
    {
      "cell_type": "markdown",
      "metadata": {
        "id": "syuKDvrxP5hK",
        "colab_type": "text"
      },
      "source": [
        "# Laboratoire 4\n",
        "## ELE747\n",
        "## Couleur (10 pt)\n",
        "\n",
        "### PAR \n",
        "### Christophe Lamarche\n",
        "### Mathieu Fournier Desrochers"
      ]
    },
    {
      "cell_type": "code",
      "metadata": {
        "id": "b-6kstGzL03t",
        "colab_type": "code",
        "colab": {}
      },
      "source": [
        "!python -m pip install -q pillow\n",
        "!python -m pip install -q scikit-image\n",
        "!python -m pip install -q scipy"
      ],
      "execution_count": null,
      "outputs": []
    },
    {
      "cell_type": "code",
      "metadata": {
        "id": "TdT6_hUzKFkx",
        "colab_type": "code",
        "colab": {}
      },
      "source": [
        "!wget -q https://raw.githubusercontent.com/clamarche/Intersect.Beta/master/images/chandelles.png"
      ],
      "execution_count": null,
      "outputs": []
    },
    {
      "cell_type": "code",
      "metadata": {
        "id": "UaEz_9PWL-8O",
        "colab_type": "code",
        "colab": {}
      },
      "source": [
        "import numpy as np\n",
        "import matplotlib.pyplot as plt\n",
        "import matplotlib as mpl\n",
        "from scipy import signal\n",
        "from PIL import Image, ImageDraw\n",
        "from skimage.measure import profile_line\n",
        "from skimage import data\n",
        "from skimage import io\n",
        "from skimage import transform\n",
        "from skimage import exposure\n",
        "from skimage import util\n",
        "from skimage.color import rgb2hsv, hsv2rgb"
      ],
      "execution_count": null,
      "outputs": []
    },
    {
      "cell_type": "code",
      "metadata": {
        "id": "MvNKE4aKMBlp",
        "colab_type": "code",
        "colab": {}
      },
      "source": [
        "def afficher_grille():\n",
        "    \"\"\"\n",
        "    afficher_grille\n",
        "    Affiche les quadrillages principales et secondaire dans le plot actuel\n",
        "    Param:\n",
        "        {None}\n",
        "    Return:\n",
        "        {None}\n",
        "    \"\"\"\n",
        "    plt.grid(b=True, which='major', color='#666666', linestyle='-')\n",
        "    plt.minorticks_on()\n",
        "    plt.grid(b=True, which='minor', color='#999999', linestyle='-', alpha=0.2)\n",
        "    return\n",
        "\n",
        "def figure(figsize=(11,8)):\n",
        "    \"\"\"\n",
        "    FIGURE  \n",
        "\n",
        "    Produit une figure de matplotlib  \n",
        "\n",
        "    @Params :\n",
        "        {None}\n",
        "    @Return : \n",
        "        {None}\n",
        "    \"\"\"\n",
        "    plt.figure(figsize=figsize,facecolor='w')\n",
        "    return"
      ],
      "execution_count": null,
      "outputs": []
    },
    {
      "cell_type": "markdown",
      "metadata": {
        "id": "tXWTFhgtSFTO",
        "colab_type": "text"
      },
      "source": [
        "Les objectifs de ce laboratoire sont de comprendre les modèles RGB et HSI   \n",
        "ainsi que d’apprendre à utiliser la *segmentation* basée sur les couleurs."
      ]
    },
    {
      "cell_type": "markdown",
      "metadata": {
        "id": "55mn4r2RSi_V",
        "colab_type": "text"
      },
      "source": [
        "#### Modèle RGB\n",
        "L'objectif spécifique de cet exercice est d'extraire les composantes R, G et B  \n",
        "d'une image en couleur et de les afficher séparément.  \n",
        "Charger l'image chandelles.png (Figure 1)  \n",
        "Séparer les composantes R, G et B."
      ]
    },
    {
      "cell_type": "markdown",
      "metadata": {
        "id": "cZ7rEgVjT6GO",
        "colab_type": "text"
      },
      "source": [
        "Afficher chaque composante séparément en noir et blanc."
      ]
    },
    {
      "cell_type": "code",
      "metadata": {
        "id": "aQjTF7ntUkt5",
        "colab_type": "code",
        "colab": {}
      },
      "source": [
        "I = io.imread('chandelles.png')\n",
        "Iri = np.array(I[:,:,0])\n",
        "Igi = np.array(I[:,:,1])\n",
        "Ibi = np.array(I[:,:,2])\n",
        "figure((8.5,6))\n",
        "plt.subplot(221)\n",
        "plt.title(\"Image original\")\n",
        "plt.imshow(I)\n",
        "plt.axis('off');\n",
        "plt.subplot(222)\n",
        "plt.title(\"Valeurs rouges de l'image\")\n",
        "plt.imshow(Iri, cmap=plt.get_cmap('gray'))\n",
        "plt.axis('off');\n",
        "plt.subplot(223)\n",
        "plt.title(\"Valeurs verts de l'image\")\n",
        "plt.imshow(Igi, cmap=plt.get_cmap('gray'))\n",
        "plt.axis('off');\n",
        "plt.subplot(224)\n",
        "plt.title(\"Valeurs bleu de l'image\")\n",
        "plt.imshow(Ibi, cmap=plt.get_cmap('gray'))\n",
        "plt.axis('off');"
      ],
      "execution_count": null,
      "outputs": []
    },
    {
      "cell_type": "markdown",
      "metadata": {
        "id": "OkC30XrjT9aw",
        "colab_type": "text"
      },
      "source": [
        "Afficher les composantes R en rouge (les composantes G et B de l'image RGB à   \n",
        "afficher doivent être nulles), la composante G en vert et la composante B en  \n",
        "bleu."
      ]
    },
    {
      "cell_type": "code",
      "metadata": {
        "id": "Se9Np-0mUlip",
        "colab_type": "code",
        "colab": {}
      },
      "source": [
        "Ir = np.array(I); Ir[:,:,(1,2)]*=0\n",
        "Ig = np.array(I); Ig[:,:,(0,2)]*=0\n",
        "Ib = np.array(I); Ib[:,:,(0,1)]*=0\n",
        "\n",
        "figure((8.5,6))\n",
        "plt.subplot(221)\n",
        "plt.title(\"Image original\")\n",
        "plt.imshow(I)\n",
        "plt.axis('off');\n",
        "plt.subplot(222)\n",
        "plt.title(\"Valeurs rouges de l'image\")\n",
        "plt.imshow(Ir, cmap=plt.get_cmap('gray'))\n",
        "plt.axis('off');\n",
        "plt.subplot(223)\n",
        "plt.title(\"Valeurs verts de l'image\")\n",
        "plt.imshow(Ig, cmap=plt.get_cmap('gray'))\n",
        "plt.axis('off');\n",
        "plt.subplot(224)\n",
        "plt.title(\"Valeurs bleu de l'image\")\n",
        "plt.imshow(Ib, cmap=plt.get_cmap('gray'))\n",
        "plt.axis('off');"
      ],
      "execution_count": null,
      "outputs": []
    },
    {
      "cell_type": "markdown",
      "metadata": {
        "id": "yg1hOGtKVSgU",
        "colab_type": "text"
      },
      "source": [
        "#### 2 Modele HSI \n",
        "L'objectif spécifique de cet exercice est d'extraire les composantes H, S et I  \n",
        "d'une image en couleur et de les afficher.  \n",
        "Charger l'image chandelles.png (Figure 1)  \n",
        "Transformer les composantes\n",
        "RGB en HSI en utilisant rgb2hsv."
      ]
    },
    {
      "cell_type": "markdown",
      "metadata": {
        "id": "GBm8NnYxVzTU",
        "colab_type": "text"
      },
      "source": [
        "Afficher chaque composante séparément en noir et blanc. "
      ]
    },
    {
      "cell_type": "code",
      "metadata": {
        "id": "GIDo1YkDV3GM",
        "colab_type": "code",
        "colab": {}
      },
      "source": [
        "I_hsv = rgb2hsv(io.imread('chandelles.png'))\n",
        "\n",
        "Ihi = np.array(I_hsv[:,:,0])\n",
        "Isi = np.array(I_hsv[:,:,1])\n",
        "Ivi = np.array(I_hsv[:,:,2])\n",
        "figure((8.5,6))\n",
        "plt.subplot(221)\n",
        "plt.title(\"Image original\")\n",
        "plt.imshow(hsv2rgb(I_hsv))\n",
        "plt.axis('off');\n",
        "plt.subplot(222)\n",
        "plt.title(\"Teinte de l'image\")\n",
        "plt.imshow(Ihi, cmap=plt.get_cmap('gray'))\n",
        "plt.colorbar()\n",
        "plt.axis('off');\n",
        "plt.subplot(223)\n",
        "plt.title(\"Saturation de l'image\")\n",
        "plt.imshow(Isi, cmap=plt.get_cmap('gray'))\n",
        "plt.axis('off');\n",
        "plt.subplot(224)\n",
        "plt.title(\"Intensité de l'image\")\n",
        "plt.imshow(Ivi, cmap=plt.get_cmap('gray'))\n",
        "plt.axis('off');"
      ],
      "execution_count": null,
      "outputs": []
    },
    {
      "cell_type": "markdown",
      "metadata": {
        "id": "zws83L5pV201",
        "colab_type": "text"
      },
      "source": [
        "#### 3 Segmentation\n",
        "L'objectif est de se servir de l'information de couleur pour segmenter la   \n",
        "première chandelle à l'extrême gauche (Figure 2).\n",
        "\n",
        "Charger l'image chandelles.png (Figure 1)   \n",
        "Transformer les composantes RGB en HSI en utilisant rgb2hsv. Utiliser  \n",
        "l'histogramme de la section de l'image contenant la chandelle recherchée pour  \n",
        "déterminer les seuils appropriés."
      ]
    },
    {
      "cell_type": "markdown",
      "metadata": {
        "id": "4pmsUbkMWbc5",
        "colab_type": "text"
      },
      "source": [
        "Afficher en binaire les pixels ayant une teinte correspondant à  \n",
        "la chandelle à segmenter ($h_{rouge} \\pm  \\epsilon$\u000f)."
      ]
    },
    {
      "cell_type": "code",
      "metadata": {
        "id": "TIVvcu4jxiG_",
        "colab_type": "code",
        "colab": {}
      },
      "source": [
        "hue_red = 0.9\n",
        "epsilon = 30/360\n",
        "hue_min = (hue_red-epsilon)%1\n",
        "hue_max = (hue_red+epsilon)%1\n",
        "print(hue_min,hue_max)\n",
        "\n",
        "I_red = np.array(I_hsv)\n",
        "i_red = np.logical_and(I_red[:,:,0]<hue_max, I_red[:,:,0]>hue_min)\n",
        "\n",
        "print()\n",
        "figure((8.5,6))\n",
        "plt.subplot(221)\n",
        "plt.title(\"Image originale\")\n",
        "plt.imshow(hsv2rgb(I_red))\n",
        "plt.subplot(222)\n",
        "plt.title(\"$h_{rouge} \\pm  \\epsilon$\")\n",
        "plt.imshow(i_red)\n",
        "plt.axis('off');\n",
        "plt.subplot(223)\n",
        "plt.title(\"$h_{rouge} + \\epsilon$\")\n",
        "plt.imshow(I_red[:,:,0]<hue_max)\n",
        "plt.axis('off');\n",
        "plt.subplot(224)\n",
        "plt.title(\"$h_{rouge} - \\epsilon$\")\n",
        "plt.imshow(I_red[:,:,0]>hue_min)\n",
        "plt.axis('off');"
      ],
      "execution_count": null,
      "outputs": []
    },
    {
      "cell_type": "code",
      "metadata": {
        "id": "SFFrktImW8JT",
        "colab_type": "code",
        "colab": {}
      },
      "source": [
        "hue_red = 0\n",
        "epsilon = 30/360\n",
        "hue_min = (hue_red-epsilon)%1\n",
        "hue_max = (hue_red+epsilon)%1\n",
        "\n",
        "I_red = np.array(I_hsv)\n",
        "figure()\n",
        "plt.subplot(221)\n",
        "plt.imshow(( (I_red[:,:,0] > 0.8)))\n",
        "plt.subplot(222)\n",
        "plt.imshow((I_red[:,:,0] * (I_red[:,:,0] > 0.8) + (I_red[:,:,0] < 0.8)))\n",
        "plt.subplot(223)\n",
        "plt.imshow(I_red[:,:,2] + ((I_red[:,:,1] * (I_red[:,:,0] > 0.8))<0.5))\n",
        "plt.subplot(224)\n",
        "plt.imshow((I_red[:,:,2] * (I_red[:,:,0] > 0.8)))\n",
        "\n",
        "i = (I_red[:,:,2] * (I_red[:,:,0] > 0.8))\n",
        "# I_red[:,:,0] =  I_red[:,:,0] * (I_red[:,:,0] > 0.8) + (I_red[:,:,0] < 0.8)\n",
        "# I_red[:,:,1] *= I_red[:,:,0] > 0.8\n",
        "# I_red[:,:,2] *= I_red[:,:,0] > 0.8\n",
        "\n",
        "I_red[:,:,2] += ((I_red[:,:,1] * (I_red[:,:,0] > 0.8))<0.5)\n",
        "I_red[:,:,0] *= (I_red[:,:,0] > 0.8)\n",
        "I_red[:,:,1] *= (I_red[:,:,0] > 0.8)\n",
        "\n",
        "\n",
        "\n",
        "print()\n",
        "figure((8.5,6))\n",
        "plt.subplot(221)\n",
        "plt.title(\"Image original\")\n",
        "plt.imshow(hsv2rgb(I_red))\n",
        "plt.axis('off');"
      ],
      "execution_count": null,
      "outputs": []
    },
    {
      "cell_type": "markdown",
      "metadata": {
        "id": "w4vFMiRBW8ja",
        "colab_type": "text"
      },
      "source": [
        "Utiliser l'information de l’intensité ($v$) ou de la saturation ($s$)\n",
        "pour améliorer la segmentation."
      ]
    },
    {
      "cell_type": "code",
      "metadata": {
        "id": "qdLTUXYRW83w",
        "colab_type": "code",
        "colab": {}
      },
      "source": [
        ""
      ],
      "execution_count": null,
      "outputs": []
    }
  ]
}
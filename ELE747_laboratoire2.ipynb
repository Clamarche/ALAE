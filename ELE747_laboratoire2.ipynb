{
  "nbformat": 4,
  "nbformat_minor": 0,
  "metadata": {
    "colab": {
      "name": "ELE747_laboratoire2.ipynb",
      "provenance": [],
      "private_outputs": true,
      "authorship_tag": "ABX9TyNAX1MlPSkMXJzWvYrIf4I6",
      "include_colab_link": true
    },
    "kernelspec": {
      "name": "python3",
      "display_name": "Python 3"
    }
  },
  "cells": [
    {
      "cell_type": "markdown",
      "metadata": {
        "id": "view-in-github",
        "colab_type": "text"
      },
      "source": [
        "<a href=\"https://colab.research.google.com/github/Clamarche/ALAE/blob/master/ELE747_laboratoire2.ipynb\" target=\"_parent\"><img src=\"https://colab.research.google.com/assets/colab-badge.svg\" alt=\"Open In Colab\"/></a>"
      ]
    },
    {
      "cell_type": "markdown",
      "metadata": {
        "id": "4jAasupGL1bl",
        "colab_type": "text"
      },
      "source": [
        "# Laboratoire 2\n",
        "## ELE747\n",
        "\n",
        "### PAR \n",
        "### Christophe Lamarche\n",
        "### Mathieu Fournier Desrochers"
      ]
    },
    {
      "cell_type": "code",
      "metadata": {
        "id": "b-6kstGzL03t",
        "colab_type": "code",
        "colab": {}
      },
      "source": [
        "!python -m pip install -q pillow\n",
        "!python -m pip install -q scikit-image\n",
        "!python -m pip install -q scipy"
      ],
      "execution_count": 0,
      "outputs": []
    },
    {
      "cell_type": "code",
      "metadata": {
        "id": "TdT6_hUzKFkx",
        "colab_type": "code",
        "colab": {}
      },
      "source": [
        "!wget -q https://raw.githubusercontent.com/clamarche/Intersect.Beta/master/images/trees.jpg\n",
        "!wget -q https://raw.githubusercontent.com/clamarche/Intersect.Beta/master/images/clown.jpeg\n",
        "!wget -q https://raw.githubusercontent.com/clamarche/Intersect.Beta/master/images/spine.png\n",
        "!wget -q https://raw.githubusercontent.com/clamarche/Intersect.Beta/master/images/autumn.jpg"
      ],
      "execution_count": 0,
      "outputs": []
    },
    {
      "cell_type": "code",
      "metadata": {
        "id": "UaEz_9PWL-8O",
        "colab_type": "code",
        "colab": {}
      },
      "source": [
        "import numpy as np\n",
        "import matplotlib.pyplot as plt\n",
        "from scipy import signal\n",
        "from PIL import Image, ImageDraw\n",
        "from skimage.measure import profile_line\n",
        "from skimage import data\n",
        "from skimage import io\n",
        "from skimage import transform\n",
        "from skimage import exposure\n",
        "from skimage import util"
      ],
      "execution_count": 0,
      "outputs": []
    },
    {
      "cell_type": "code",
      "metadata": {
        "id": "MvNKE4aKMBlp",
        "colab_type": "code",
        "colab": {}
      },
      "source": [
        "def afficher_grille():\n",
        "    \"\"\"\n",
        "    afficher_grille\n",
        "    Affiche les quadrillages principales et secondaire dans le plot actuel\n",
        "    Param:\n",
        "        {None}\n",
        "    Return:\n",
        "        {None}\n",
        "    \"\"\"\n",
        "    plt.grid(b=True, which='major', color='#666666', linestyle='-')\n",
        "    plt.minorticks_on()\n",
        "    plt.grid(b=True, which='minor', color='#999999', linestyle='-', alpha=0.2)\n",
        "    return\n",
        "\n",
        "def figure(figsize=(11,8)):\n",
        "    \"\"\"\n",
        "    FIGURE  \n",
        "\n",
        "    Produit une figure de matplotlib  \n",
        "\n",
        "    @Params :\n",
        "        {None}\n",
        "    @Return : \n",
        "        {None}\n",
        "    \"\"\"\n",
        "    plt.figure(figsize=figsize,facecolor='w')\n",
        "    return"
      ],
      "execution_count": 0,
      "outputs": []
    },
    {
      "cell_type": "markdown",
      "metadata": {
        "id": "DDVsmj6tMTgL",
        "colab_type": "text"
      },
      "source": [
        "#### 1. Filtre passe-haut"
      ]
    },
    {
      "cell_type": "markdown",
      "metadata": {
        "id": "zUqEQK3oMTXa",
        "colab_type": "text"
      },
      "source": [
        "##### 1.1 Derivée première de l'intensité\n",
        "La dérivée première de l'intensité d'une image appelée aussi gradient de l'image est déterminée numériquement en tout pixel sous forme d'un vecteur ayant un module et un argument. Dans les prochaines sections, nous étudions les filtres directionnels de Prewitt et de Sobel."
      ]
    },
    {
      "cell_type": "markdown",
      "metadata": {
        "id": "VGvhu7-NNQih",
        "colab_type": "text"
      },
      "source": [
        "###### 1.1.1 Filtres de Prewitt\n",
        "La méthode consiste à convoluer l'image par deux filtres $w_x$ et $w_y$ qui sont respectivement sénsible aux contours verticaux et horizontaux.\n",
        "\n",
        "$$w_x = \\begin{bmatrix}\n",
        "-1 & 0 & 1\\\\\n",
        "-1 & 0 & 1\\\\\n",
        "-1 & 0 & 1\n",
        "\\end{bmatrix} \\space\\space w_y = \\begin{bmatrix}\n",
        "1 & 1 & 1\\\\\n",
        "0 & 0 & 0\\\\\n",
        "-1 & -1 & -1\n",
        "\\end{bmatrix}$$  \n",
        "\n",
        "Considérant $f^{'}_{x}=w_x \\star f$ et $f^{'}_{y}=w_y \\star f$, le module du gradient s'écrit :  \n",
        "$$D=\\sqrt{{f^{'}_{x}}^{2}+{f^{'}_{y}}^{2}}$$  \n",
        "Une approximation du module du gradient peut être obtenue avec :  \n",
        "$$D\\approx |{f^{'}_{x}}| + |{f^{'}_{y}}|$$  \n",
        "et l'argument du gradient est donné par : \n",
        "$$A=\\arctan\\big(\\frac{f^{'}_{x}}{f^{'}_{y}}\\big)$$"
      ]
    },
    {
      "cell_type": "code",
      "metadata": {
        "id": "UtC4OkkfNfcX",
        "colab_type": "code",
        "colab": {}
      },
      "source": [
        ""
      ],
      "execution_count": 0,
      "outputs": []
    },
    {
      "cell_type": "markdown",
      "metadata": {
        "id": "Gh3VVUbRNf4u",
        "colab_type": "text"
      },
      "source": [
        "###### 1.1.2 Filtres directionnels de Sobel\n",
        "\n",
        "Les filtres directionnels de Sobel s'appliquent sur les images pour calculer la\n",
        "dérivée première de l’intensité de la même manière que les filtres de Prewitt. Les\n",
        "filtres $w_x$ et $w_y$ s'écrivent :  \n",
        "\n",
        "$$w_x = \\begin{bmatrix}\n",
        "-1 & 0 & 1\\\\\n",
        "-2 & 0 & 2\\\\\n",
        "-1 & 0 & 1\n",
        "\\end{bmatrix} \\space\\space w_y = \\begin{bmatrix}\n",
        "1 & 2 & 1\\\\\n",
        "0 & 0 & 0\\\\\n",
        "-1 & -2 & -1\n",
        "\\end{bmatrix}$$ "
      ]
    },
    {
      "cell_type": "markdown",
      "metadata": {
        "id": "JHX98GdqS51u",
        "colab_type": "text"
      },
      "source": [
        "Est-il intéressant d'utiliser l'approximation du module du gradient ? Justifier votre réponse."
      ]
    },
    {
      "cell_type": "code",
      "metadata": {
        "id": "igub0NLHTDk0",
        "colab_type": "code",
        "colab": {}
      },
      "source": [
        ""
      ],
      "execution_count": 0,
      "outputs": []
    },
    {
      "cell_type": "markdown",
      "metadata": {
        "id": "5tPURBpVTEt8",
        "colab_type": "text"
      },
      "source": [
        "Comparer les résultats du filtre de Prewitt avec ceux du filtre de Sobel."
      ]
    },
    {
      "cell_type": "code",
      "metadata": {
        "id": "xZWeKSlvNmAv",
        "colab_type": "code",
        "colab": {}
      },
      "source": [
        ""
      ],
      "execution_count": 0,
      "outputs": []
    },
    {
      "cell_type": "markdown",
      "metadata": {
        "id": "4C0OETFJTKRi",
        "colab_type": "text"
      },
      "source": [
        "Comment peut-on détecter les contours en utilisant ces filtres (Prewitt et Sobel) ?"
      ]
    },
    {
      "cell_type": "code",
      "metadata": {
        "id": "2jWGeQj-TR4c",
        "colab_type": "code",
        "colab": {}
      },
      "source": [
        ""
      ],
      "execution_count": 0,
      "outputs": []
    },
    {
      "cell_type": "markdown",
      "metadata": {
        "id": "pBiPkCPONlLF",
        "colab_type": "text"
      },
      "source": [
        "##### 1.2 Derivée seconde de l'intensitée\n",
        "\n",
        "Le Laplacien permet de déterminer la dérivée seconde. Le calcul est basé sur la\n",
        "convolution de l'image par le filtre $\\nabla^{2}$.\n",
        "\n",
        "$$w_{\\nabla^{2}} = \\begin{bmatrix}\n",
        "0 & -1 & 0\\\\\n",
        "-1 & 4 & -1\\\\\n",
        "0 & -1 & 0\n",
        "\\end{bmatrix}$$"
      ]
    },
    {
      "cell_type": "markdown",
      "metadata": {
        "id": "uezyduUPT5H6",
        "colab_type": "text"
      },
      "source": [
        "Pourquoi est-il souhaitable d'appliquer un filtre passe-bas avant l'opérateur laplacien ? Justifier votre réponse."
      ]
    },
    {
      "cell_type": "code",
      "metadata": {
        "id": "QkZidtD9NsrD",
        "colab_type": "code",
        "colab": {}
      },
      "source": [
        ""
      ],
      "execution_count": 0,
      "outputs": []
    },
    {
      "cell_type": "markdown",
      "metadata": {
        "id": "DUY3QpnrUDhg",
        "colab_type": "text"
      },
      "source": [
        "Représenter le profil de l'intensité le long du segment AB sur :\n",
        "1) l'image initiale spine, 2) le gradient et 3) le Laplacien."
      ]
    },
    {
      "cell_type": "code",
      "metadata": {
        "id": "FsV9Z0NZUJ5W",
        "colab_type": "code",
        "colab": {}
      },
      "source": [
        ""
      ],
      "execution_count": 0,
      "outputs": []
    },
    {
      "cell_type": "markdown",
      "metadata": {
        "id": "rWVTiDiSUKip",
        "colab_type": "text"
      },
      "source": [
        "Interpréter dans les trois images l'existence d'un contour. Comment peut-on détecter un contour en utilisant un Laplacien\n",
        "de Gaussienne ? Enoncer 2 différentes méthodes."
      ]
    },
    {
      "cell_type": "code",
      "metadata": {
        "id": "5i3-mSTQURPT",
        "colab_type": "code",
        "colab": {}
      },
      "source": [
        ""
      ],
      "execution_count": 0,
      "outputs": []
    },
    {
      "cell_type": "markdown",
      "metadata": {
        "id": "BA0ugxJUNtBB",
        "colab_type": "text"
      },
      "source": [
        "#### 2. Algorithme de Canny\n",
        "Le détecteur de contours de Canny est un algorithme qui a été conçu pour\n",
        "détecter les contours en favorisant un faible taux d'erreur, une bonne localisation\n",
        "en tout offrant une réponse claire."
      ]
    },
    {
      "cell_type": "markdown",
      "metadata": {
        "id": "KoqucsqON-pJ",
        "colab_type": "text"
      },
      "source": [
        "##### 2.1 Description de l'algorithme"
      ]
    },
    {
      "cell_type": "markdown",
      "metadata": {
        "id": "Sq58v3NXOEeE",
        "colab_type": "text"
      },
      "source": [
        "###### 2.1.1 Première étape : Filtre gaussien\n",
        "Application d’un filtre gaussien :\n",
        "\n",
        "$$G(x,y,\\sigma)=\\frac{1}{2\\pi\\sigma^{2}}e^{-\\frac{x^{2}+y^{2}}{2\\sigma^{2}}}$$ \n",
        "\n",
        "$$G(x,y,\\sigma) \\star f(x,y)$$"
      ]
    },
    {
      "cell_type": "markdown",
      "metadata": {
        "id": "naMadrMncoBM",
        "colab_type": "text"
      },
      "source": [
        "Implémentation de la première étape : filtrage gaussien et calcul du gradient dans deux fonctions ayant les signatures suivantes (n'utilisez pas la fonction fspecial de matlab)\n",
        "- $I_g = filtrerGaussien(I, \\sigma, taille)$\n",
        "- [M, α] = calculerGradiant($I_g$)"
      ]
    },
    {
      "cell_type": "code",
      "metadata": {
        "id": "llVcuET4bZ8r",
        "colab_type": "code",
        "colab": {}
      },
      "source": [
        ""
      ],
      "execution_count": 0,
      "outputs": []
    },
    {
      "cell_type": "markdown",
      "metadata": {
        "id": "oP60ewT-OIGl",
        "colab_type": "text"
      },
      "source": [
        "###### 2.1.2 Deuxièmes étapes : Module et angle du gradient \n",
        "\n",
        "En utilisant un filtre de dérivé de votre choix (Roberts, Sobel, Prewitt, etc.),\n",
        "calculez le module (M) et l'argument($\\alpha$) du gradient. Notez que l'argument est la\n",
        "normale du gradient, et que la direction du contour est orthogonale à la normale. Quantifiez ensuite $\\alpha$ en 4 orientations : horizontale, $-45^{\\circ}$ , verticale et $+45^{\\circ}$ notée\n",
        "respectivement d1, d2, d3 et d4. Fig 3 illustre le résultat attendu avec les angles\n",
        "correspondent aux normales des contours."
      ]
    },
    {
      "cell_type": "markdown",
      "metadata": {
        "id": "_h1nAVSEaSBL",
        "colab_type": "text"
      },
      "source": [
        "![Figure 3](https://raw.githubusercontent.com/clamarche/Intersect.Beta/master/images/figure3.png)  \n",
        "Figure 3 - Orientation des contours"
      ]
    },
    {
      "cell_type": "markdown",
      "metadata": {
        "id": "XtABS-Noc38h",
        "colab_type": "text"
      },
      "source": [
        "Implémentation de la deuxième étape dans une fonction :\n",
        "- $d_k = determinerDirGrad(\\alpha)$"
      ]
    },
    {
      "cell_type": "code",
      "metadata": {
        "id": "nufxmVzsOw0I",
        "colab_type": "code",
        "colab": {}
      },
      "source": [
        ""
      ],
      "execution_count": 0,
      "outputs": []
    },
    {
      "cell_type": "markdown",
      "metadata": {
        "id": "WKDyofEGOOGT",
        "colab_type": "text"
      },
      "source": [
        "###### 2.1.3 Troisième étape : Suppression des non-maxima\n",
        "\n",
        "Pour l'ensemble de la matrice de modules (M(x, y))  \n",
        "— Mettre à zéro les valeurs qui ont au moins un voisin orienté en dk ayant un module de gradient supérieur. Par exemple, considérant un contour horizontal, le gradient sera orienté en d1 et on annule le pixel si son voisin d’en haut M(x, y−1) ou d’en bas M(x, y+1) est supérieur"
      ]
    },
    {
      "cell_type": "markdown",
      "metadata": {
        "id": "nPdoZAjzdAOx",
        "colab_type": "text"
      },
      "source": [
        "Implémentation de la troisième étape en une fonction :\n",
        "- N = supprimerNonMaxima($d_k$,M)"
      ]
    },
    {
      "cell_type": "code",
      "metadata": {
        "id": "3rFh0rnjOxRj",
        "colab_type": "code",
        "colab": {}
      },
      "source": [
        ""
      ],
      "execution_count": 0,
      "outputs": []
    },
    {
      "cell_type": "markdown",
      "metadata": {
        "id": "0r2zRaoSOd86",
        "colab_type": "text"
      },
      "source": [
        "###### 2.1.4 Quatrième étape : Seuillage par hystérésis\n",
        "\n",
        "- Utilisez deux seuils, $\\tau_{L}$ et $\\tau_{H}$, pour obtenir les images $T_L$ et $T_H$ respectivement. Comme point de départ pour trouver les $\\tau$ optimaux vous pouvez choisir $\\tau_{H}$ en observant l’intensité des contour de M avec $\\tau_{H} \\geq 2\\cdot\\tau_{L}$. L’image $T_H$ devra contenir des segments de contours désirables (c.-à-d.. dont le gradient est élevé) alors que l’image $T_L$ devra contenir le reste des segments formant les\n",
        "contours. Parce que le seuil $\\tau_{L}$ et plus bas, $T_L$ contiendra également plusieurs\n",
        "segments ainsi que du bruit indésirable.\n",
        "\n",
        "- De façon itérative, pour chaque pixel activé dans TH déterminez si un pixel 8-connecté est activé dans TL. Si oui, activez-le dans TH. Répétez jusqu'à ce qu’aucun pixel ne soit ajouté dans TH ou après un nombre limite d’itérations.\n"
      ]
    },
    {
      "cell_type": "markdown",
      "metadata": {
        "id": "MxIc77XXdFqZ",
        "colab_type": "text"
      },
      "source": [
        "Implémentation de la quatrième étape en deux fonctions :\n",
        "- $[T_L, T_H] = seuillage(N, \\tau_l, \\tau_H)$\n",
        "- $I_C = raccord(T_L, T_H)$"
      ]
    },
    {
      "cell_type": "code",
      "metadata": {
        "id": "xq7Pe5a6dF7n",
        "colab_type": "code",
        "colab": {}
      },
      "source": [
        ""
      ],
      "execution_count": 0,
      "outputs": []
    },
    {
      "cell_type": "markdown",
      "metadata": {
        "id": "LM7RkLwYOltL",
        "colab_type": "text"
      },
      "source": [
        "#### 3. Applications\n",
        "\n",
        "Pour les différentes images, utilisez la méthode de votre choix pour répondre au\n",
        "problème. Justifier votre réponse."
      ]
    },
    {
      "cell_type": "markdown",
      "metadata": {
        "id": "UpgY6EPYgVWG",
        "colab_type": "text"
      },
      "source": [
        "Détecter les contours complets des pièces de monnaie de sorte qu'il serait facile de trouver leurs tailles. On ne veut pas voir apparaître de bruits causés par les gravures internes dans monnaie2.tif."
      ]
    },
    {
      "cell_type": "code",
      "metadata": {
        "id": "FqvEv9jIOx_-",
        "colab_type": "code",
        "colab": {}
      },
      "source": [
        ""
      ],
      "execution_count": 0,
      "outputs": []
    },
    {
      "cell_type": "markdown",
      "metadata": {
        "id": "Qw5T-RbJguxF",
        "colab_type": "text"
      },
      "source": [
        "Détecter le contour des cellules de sorte qu'elles soient faciles à compter. Effectuer le prétraitement à un algorithme qui compte le nombre de cercle et de portion de cercle dans blood1.tif."
      ]
    },
    {
      "cell_type": "code",
      "metadata": {
        "id": "r8VHN-yfgvdY",
        "colab_type": "code",
        "colab": {}
      },
      "source": [
        ""
      ],
      "execution_count": 0,
      "outputs": []
    },
    {
      "cell_type": "markdown",
      "metadata": {
        "id": "goDYqr4igu5D",
        "colab_type": "text"
      },
      "source": [
        "Identifier les circuits électriques. On veut vérifier s'il n'y a pas de connexions coupées dans circuit.tif."
      ]
    },
    {
      "cell_type": "code",
      "metadata": {
        "id": "8UpfBBA9gwF3",
        "colab_type": "code",
        "colab": {}
      },
      "source": [
        ""
      ],
      "execution_count": 0,
      "outputs": []
    },
    {
      "cell_type": "markdown",
      "metadata": {
        "id": "UaX-PRTChJeE",
        "colab_type": "text"
      },
      "source": [
        "Sélectionner les contours des taches blanches de l'image bonemarr.tif."
      ]
    },
    {
      "cell_type": "code",
      "metadata": {
        "id": "WVhkLW2whI4W",
        "colab_type": "code",
        "colab": {}
      },
      "source": [
        ""
      ],
      "execution_count": 0,
      "outputs": []
    }
  ]
}